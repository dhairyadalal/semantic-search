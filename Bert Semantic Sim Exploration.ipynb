{
 "cells": [
  {
   "cell_type": "code",
   "execution_count": 6,
   "metadata": {},
   "outputs": [],
   "source": [
    "from sentence_transformers import SentenceTransformer\n",
    "import pandas as pd\n",
    "import numpy as np\n",
    "\n",
    "bert_base_mean = SentenceTransformer('bert-base-nli-mean-tokens')\n",
    "bert_base_max = SentenceTransformer('bert-base-nli-max-tokens')"
   ]
  },
  {
   "cell_type": "code",
   "execution_count": 7,
   "metadata": {
    "scrolled": true
   },
   "outputs": [],
   "source": [
    "bert_large_mean = SentenceTransformer('bert-large-nli-mean-tokens')"
   ]
  },
  {
   "cell_type": "code",
   "execution_count": 8,
   "metadata": {},
   "outputs": [],
   "source": [
    "bert_large_max = SentenceTransformer('bert-large-nli-max-tokens')"
   ]
  },
  {
   "cell_type": "code",
   "execution_count": 9,
   "metadata": {},
   "outputs": [],
   "source": [
    "import sys\n",
    "sys.path.append(\"/Users/dhairya/Documents/talla_sys/magic\")\n",
    "from magic.models import metrics\n",
    "\n",
    "def get_metrics(max_results: int, results: pd.Series, ) -> dict:\n",
    "    Rs = np.zeros(len(results)) + 1\n",
    "\n",
    "    truncated_pk = [np.mean([metrics.precision_at_k(k + 1, yrel)\n",
    "                             for yrel in results]) for k in range(max_results)]\n",
    "    truncated_pk = [round(val, 4) for val in truncated_pk]\n",
    "\n",
    "    truncated_rk = [np.mean([metrics.recall_at_k(k + 1, yrel, R=1)\n",
    "                             for yrel in results]) for k in range(max_results)]\n",
    "    truncated_rk = [round(val, 4) for val in truncated_rk]\n",
    "\n",
    "    return {\"mrr\": round(metrics.mrr(max_results, results), 4),\n",
    "            \"map\": round(metrics.map(max_results, results), 4),\n",
    "            \"truncated mrr\": round(metrics.truncated_mrr(results, Rs), 4),\n",
    "            \"truncated map\": round(metrics.truncated_map(results, Rs), 4),\n",
    "            \"truncated precision@k\": truncated_pk,\n",
    "            \"truncated recall-1@k\": truncated_rk}"
   ]
  },
  {
   "cell_type": "code",
   "execution_count": 10,
   "metadata": {},
   "outputs": [],
   "source": [
    "import faiss\n",
    "from typing import List\n",
    "import numpy as np\n",
    "\n",
    "def build_semantic_index(feature_size: int, embeddings: np.array) -> 'index':\n",
    "    index = faiss.IndexIDMap(faiss.IndexFlatIP(feature_size))\n",
    "    index.add_with_ids(embeddings, np.array(range(0, len(embeddings))))\n",
    "    return index\n",
    "\n",
    "def search(query_embedding: np.array, \n",
    "           index:faiss.swigfaiss.IndexIDMap,\n",
    "           num_results: int = 4) -> List[int]:\n",
    "    query_vector = np.array(query_embedding)\n",
    "    k = num_results\n",
    "    top_k = index.search(query_vector, k)\n",
    "    return top_k[1][0]"
   ]
  },
  {
   "cell_type": "markdown",
   "metadata": {},
   "source": [
    "# Demo"
   ]
  },
  {
   "cell_type": "code",
   "execution_count": 11,
   "metadata": {},
   "outputs": [
    {
     "name": "stderr",
     "output_type": "stream",
     "text": [
      "Batches: 100%|██████████| 1/1 [00:01<00:00,  1.27s/it]\n"
     ]
    }
   ],
   "source": [
    "import time\n",
    "\n",
    "data = [\n",
    "    \"How do I signup for Autofile in Texas?\",\n",
    "    \"How do I signup for Autofile in Wisconsin?\",\n",
    "    \"How do I signup for Autofile in New Jersey?\",\n",
    "    \"Texas Autofile note?\",\n",
    "    \"Autofile Tax Setup?\",\n",
    "    \"Creative Cloud\",\n",
    "    \"What are the primary colors? The primary colors red, blue, and green.\",\n",
    "    \"Red Red Red. THat is primary.\",\n",
    "    \"Do I need to be online to access my desktop apps?\",\n",
    "    \"How do I access the applications in Creative Cloud?\",\n",
    "    \"How do I set applications password in Creative Cloud?\",\n",
    "    \"As a Creative Cloud member, am I required to install an upgrade to a desktop application when it becomes avaiable?\"\n",
    "]\n",
    "\n",
    "de = np.array(bert_large_max.encode(data))\n",
    "\n",
    "index = build_semantic_index(1024, de)"
   ]
  },
  {
   "cell_type": "code",
   "execution_count": 15,
   "metadata": {},
   "outputs": [
    {
     "name": "stderr",
     "output_type": "stream",
     "text": [
      "Batches: 100%|██████████| 1/1 [00:00<00:00,  5.99it/s]"
     ]
    },
    {
     "name": "stdout",
     "output_type": "stream",
     "text": [
      "1: Texas Autofile note?\n",
      "2: How do I signup for Autofile in Texas?\n",
      "3: Autofile Tax Setup?\n",
      "4: How do I signup for Autofile in New Jersey?\n"
     ]
    },
    {
     "name": "stderr",
     "output_type": "stream",
     "text": [
      "\n"
     ]
    }
   ],
   "source": [
    "ri = search(bert_large_max.encode([\"Autofiling in Texas\"]),\n",
    "            index, 4)\n",
    "\n",
    "for _, i in enumerate(ri):\n",
    "    print(f\"{_+1}: {data[i]}\")"
   ]
  },
  {
   "cell_type": "markdown",
   "metadata": {},
   "source": [
    "# TaxJar Experiments\n",
    "\n",
    "## Load Taxjar data"
   ]
  },
  {
   "cell_type": "code",
   "execution_count": 1,
   "metadata": {},
   "outputs": [],
   "source": [
    "import pandas as pd\n",
    "import numpy as np\n",
    "import pickle \n",
    "\n",
    "tj_doc_headers = pd.read_csv(\"data/taxjar_doc_headers.csv\")\n",
    "tj_ke_headers = pd.read_csv(\"data/taxjar_ke_headers.csv\")\n",
    "tj_map = pickle.load(open(\"data/tj_map.pkl\", \"rb\"))\n",
    "tj_queries = pd.read_csv(\"data/taxjar_queries.csv\")\n",
    "\n",
    "tj_ke_headers[\"title\"] = tj_ke_headers[\"title\"].apply(lambda x: str(x).strip())\n",
    "tj_doc_headers[\"title\"] = tj_doc_headers[\"title\"].apply(lambda x: str(x).strip())"
   ]
  },
  {
   "cell_type": "markdown",
   "metadata": {},
   "source": [
    "### Generate Embeddings and Index\n",
    "Embeddings Strat: Bert Large + Max pooling"
   ]
  },
  {
   "cell_type": "code",
   "execution_count": 104,
   "metadata": {},
   "outputs": [
    {
     "name": "stderr",
     "output_type": "stream",
     "text": [
      "Batches: 100%|██████████| 29/29 [01:00<00:00,  3.56s/it]\n"
     ]
    }
   ],
   "source": [
    "ke_embeddings = bert_large_max.encode(tj_ke_headers[\"title\"])"
   ]
  },
  {
   "cell_type": "code",
   "execution_count": 105,
   "metadata": {},
   "outputs": [
    {
     "name": "stderr",
     "output_type": "stream",
     "text": [
      "Batches: 100%|██████████| 14/14 [00:28<00:00,  2.75s/it]\n"
     ]
    }
   ],
   "source": [
    "doc_embeddings = bert_large_max.encode(tj_doc_headers[\"title\"])"
   ]
  },
  {
   "cell_type": "code",
   "execution_count": 107,
   "metadata": {},
   "outputs": [
    {
     "data": {
      "text/plain": [
       "(923, 1024)"
      ]
     },
     "execution_count": 107,
     "metadata": {},
     "output_type": "execute_result"
    }
   ],
   "source": [
    "ke_embeddings = np.array(ke_embeddings)\n",
    "doc_embeddings = np.array(doc_embeddings)\n",
    "ke_embeddings.shape"
   ]
  },
  {
   "cell_type": "code",
   "execution_count": 109,
   "metadata": {},
   "outputs": [],
   "source": [
    "ke_index = build_semantic_index(1024, ke_embeddings)\n",
    "doc_index = build_semantic_index(1024, doc_embeddings)"
   ]
  },
  {
   "cell_type": "code",
   "execution_count": 189,
   "metadata": {
    "scrolled": true
   },
   "outputs": [],
   "source": [
    "# from sklearn.metrics.pairwise import cosine_similarity\n",
    "# import ast \n",
    "\n",
    "# final_res = []\n",
    "\n",
    "# for i, row in tj_queries.iterrows():\n",
    "#     query = row[\"query\"]\n",
    "#     gold_ke_id = row[\"gold_knowledge_id\"]\n",
    "#     gold_doc_id = row[\"gold_document_id\"]\n",
    "    \n",
    "#     query_embed = np.array(bert_large_max.encode([query]))\n",
    "#     ke_res_ids = [tj_ke_headers.iloc[i].ke_id for i in search(query_embed, ke_index, 4)]\n",
    "#     ke_res_text = [tj_map[i][\"title\"] for i in ke_res_ids]\n",
    "#     doc_res_ids = [tj_doc_headers.iloc[i].doc_id for i in search(query_embed, doc_index, 4)]\n",
    "#     doc_res_text = [tj_map[i][\"title\"] for i in doc_res_ids]\n",
    "    \n",
    "#     all_ids = np.hstack([ke_res_ids, doc_res_ids])\n",
    "#     all_text = np.hstack([ke_res_text, doc_res_text])\n",
    "#     all_text_embed = np.array(bert_large_max.encode(all_text))\n",
    "#     cos_scores = cosine_similarity(query_embed, all_text_embed)\n",
    "#     best_scores =  np.argsort(cos_scores)[::-1][0][:4]\n",
    "#     best_ids = [all_ids[i] for i in best_scores]\n",
    "    \n",
    "#     bert_eval = [int(i in [gold_ke_id, gold_doc_id]) for i in best_ids]\n",
    "    \n",
    "#     final_res.append({\"query_id\": row.query_id,\n",
    "#                       \"query\": row.query,\n",
    "#                       \"bert_eval\": bert_eval,\n",
    "#                       \"bert_correct\": np.sum(bert_eval),\n",
    "#                       \"bert_rank\": np.argmax(bert_eval) + 1 if np.sum(bert_eval) > 0 else -1,\n",
    "#                       \"baseline_eval\": ast.literal_eval(row.eval_results),\n",
    "#                       \"baseline_correct\": row.correct_flag,\n",
    "#                       \"baseline_rank\": np.argmax(ast.literal_eval(row.eval_results)) + 1 if np.sum(ast.literal_eval(row.eval_results)) > 0 else -1})\n"
   ]
  },
  {
   "cell_type": "code",
   "execution_count": 176,
   "metadata": {},
   "outputs": [],
   "source": [
    "query_type = tj_queries[[\"query_id\", \"query_type\"]]\n",
    "df = pd.DataFrame(final_res)\n",
    "\n",
    "df = pd.merge(df, query_type)"
   ]
  },
  {
   "cell_type": "code",
   "execution_count": 178,
   "metadata": {},
   "outputs": [
    {
     "name": "stdout",
     "output_type": "stream",
     "text": [
      "Overall BERT-Large metrics\n"
     ]
    },
    {
     "data": {
      "text/plain": [
       "{'mrr': 0.0794,\n",
       " 'map': 0.0803,\n",
       " 'truncated mrr': 0.0794,\n",
       " 'truncated map': 0.1048,\n",
       " 'truncated precision@k': [0.051, 0.0449, 0.0422, 0.0429],\n",
       " 'truncated recall-1@k': [0.051, 0.0898, 0.1265, 0.1714]}"
      ]
     },
     "metadata": {},
     "output_type": "display_data"
    },
    {
     "name": "stdout",
     "output_type": "stream",
     "text": [
      "BERT metrics for questions\n"
     ]
    },
    {
     "data": {
      "text/plain": [
       "{'mrr': 0.0779,\n",
       " 'map': 0.0786,\n",
       " 'truncated mrr': 0.0779,\n",
       " 'truncated map': 0.1073,\n",
       " 'truncated precision@k': [0.0459, 0.0419, 0.0423, 0.0453],\n",
       " 'truncated recall-1@k': [0.0459, 0.0838, 0.127, 0.1811]}"
      ]
     },
     "metadata": {},
     "output_type": "display_data"
    },
    {
     "name": "stdout",
     "output_type": "stream",
     "text": [
      "BERT metrics for search\n"
     ]
    },
    {
     "data": {
      "text/plain": [
       "{'mrr': 0.084,\n",
       " 'map': 0.0854,\n",
       " 'truncated mrr': 0.084,\n",
       " 'truncated map': 0.0969,\n",
       " 'truncated precision@k': [0.0667, 0.0542, 0.0417, 0.0354],\n",
       " 'truncated recall-1@k': [0.0667, 0.1083, 0.125, 0.1417]}"
      ]
     },
     "metadata": {},
     "output_type": "display_data"
    }
   ],
   "source": [
    "print(\"Overall BERT-Large metrics\")\n",
    "display(get_metrics(4, df[\"bert_eval\"]))\n",
    "\n",
    "print(\"BERT metrics for questions\")\n",
    "display(get_metrics(4, df.query(\"query_type=='question'\")[\"bert_eval\"]))\n",
    "\n",
    "print(\"BERT metrics for search\")\n",
    "display(get_metrics(4, df.query(\"query_type!='question'\")[\"bert_eval\"]))"
   ]
  },
  {
   "cell_type": "code",
   "execution_count": 187,
   "metadata": {},
   "outputs": [
    {
     "name": "stdout",
     "output_type": "stream",
     "text": [
      "Recall improvement: 5, 0.01020408163265306%\n",
      "Rank improvement: 13, 0.026530612244897958\n"
     ]
    }
   ],
   "source": [
    "ri = len(df.query(\"bert_correct > 0 and baseline_correct == 0\")) \n",
    "print(f\"Recall improvement: {ri}, {ri/len(df)}%\")\n",
    " \n",
    "rru = len(df.query(\"bert_rank > 0 & baseline_rank > bert_rank\"))\n",
    "print(f\"Rank improvement: {rru}, {rru / len(df)}\", )"
   ]
  },
  {
   "cell_type": "code",
   "execution_count": 184,
   "metadata": {},
   "outputs": [
    {
     "data": {
      "text/html": [
       "<div>\n",
       "<style scoped>\n",
       "    .dataframe tbody tr th:only-of-type {\n",
       "        vertical-align: middle;\n",
       "    }\n",
       "\n",
       "    .dataframe tbody tr th {\n",
       "        vertical-align: top;\n",
       "    }\n",
       "\n",
       "    .dataframe thead th {\n",
       "        text-align: right;\n",
       "    }\n",
       "</style>\n",
       "<table border=\"1\" class=\"dataframe\">\n",
       "  <thead>\n",
       "    <tr style=\"text-align: right;\">\n",
       "      <th></th>\n",
       "      <th>query_id</th>\n",
       "      <th>query</th>\n",
       "      <th>bert_eval</th>\n",
       "      <th>bert_correct</th>\n",
       "      <th>bert_rank</th>\n",
       "      <th>baseline_eval</th>\n",
       "      <th>baseline_correct</th>\n",
       "      <th>baseline_rank</th>\n",
       "      <th>query_type</th>\n",
       "    </tr>\n",
       "  </thead>\n",
       "  <tbody>\n",
       "    <tr>\n",
       "      <th>41</th>\n",
       "      <td>f6e48be2-71ea-4a2d-be6f-391a0e5ecfc1</td>\n",
       "      <td>How do I import a transaction via CSV</td>\n",
       "      <td>[0, 1, 0, 0]</td>\n",
       "      <td>1</td>\n",
       "      <td>2</td>\n",
       "      <td>[0, 0, 0, 0, 0, 0, 0, 0]</td>\n",
       "      <td>0</td>\n",
       "      <td>-1</td>\n",
       "      <td>question</td>\n",
       "    </tr>\n",
       "    <tr>\n",
       "      <th>47</th>\n",
       "      <td>bc0e21c5-0c2b-49d6-8292-4e9d2d0cdadc</td>\n",
       "      <td>How do I import a CSV</td>\n",
       "      <td>[0, 1, 0, 0]</td>\n",
       "      <td>1</td>\n",
       "      <td>2</td>\n",
       "      <td>[0, 0, 0, 0, 0, 0, 0, 0]</td>\n",
       "      <td>0</td>\n",
       "      <td>-1</td>\n",
       "      <td>question</td>\n",
       "    </tr>\n",
       "    <tr>\n",
       "      <th>163</th>\n",
       "      <td>90119224-18c2-43a6-8576-fd5c3712f435</td>\n",
       "      <td>I need legal advice for my business. Can TaxJa...</td>\n",
       "      <td>[1, 0, 0, 0]</td>\n",
       "      <td>1</td>\n",
       "      <td>1</td>\n",
       "      <td>[0]</td>\n",
       "      <td>0</td>\n",
       "      <td>-1</td>\n",
       "      <td>question</td>\n",
       "    </tr>\n",
       "    <tr>\n",
       "      <th>366</th>\n",
       "      <td>ef453889-148b-41be-9a65-97abbb2fb05f</td>\n",
       "      <td>what should I do if i didn't collect sales taxes?</td>\n",
       "      <td>[0, 1, 0, 0]</td>\n",
       "      <td>1</td>\n",
       "      <td>2</td>\n",
       "      <td>[0, 0, 0, 0, 0, 0, 0, 0, 0, 0, 0, 0, 0, 0, 0, ...</td>\n",
       "      <td>0</td>\n",
       "      <td>-1</td>\n",
       "      <td>question</td>\n",
       "    </tr>\n",
       "    <tr>\n",
       "      <th>414</th>\n",
       "      <td>97b35439-2ff0-4133-ab0d-c8b405ab7f55</td>\n",
       "      <td>Does taxjar collect for me?</td>\n",
       "      <td>[0, 0, 0, 1]</td>\n",
       "      <td>1</td>\n",
       "      <td>4</td>\n",
       "      <td>[0, 0, 0, 0, 0, 0, 0, 0]</td>\n",
       "      <td>0</td>\n",
       "      <td>-1</td>\n",
       "      <td>question</td>\n",
       "    </tr>\n",
       "  </tbody>\n",
       "</table>\n",
       "</div>"
      ],
      "text/plain": [
       "                                 query_id  \\\n",
       "41   f6e48be2-71ea-4a2d-be6f-391a0e5ecfc1   \n",
       "47   bc0e21c5-0c2b-49d6-8292-4e9d2d0cdadc   \n",
       "163  90119224-18c2-43a6-8576-fd5c3712f435   \n",
       "366  ef453889-148b-41be-9a65-97abbb2fb05f   \n",
       "414  97b35439-2ff0-4133-ab0d-c8b405ab7f55   \n",
       "\n",
       "                                                 query     bert_eval  \\\n",
       "41               How do I import a transaction via CSV  [0, 1, 0, 0]   \n",
       "47                               How do I import a CSV  [0, 1, 0, 0]   \n",
       "163  I need legal advice for my business. Can TaxJa...  [1, 0, 0, 0]   \n",
       "366  what should I do if i didn't collect sales taxes?  [0, 1, 0, 0]   \n",
       "414                        Does taxjar collect for me?  [0, 0, 0, 1]   \n",
       "\n",
       "     bert_correct  bert_rank  \\\n",
       "41              1          2   \n",
       "47              1          2   \n",
       "163             1          1   \n",
       "366             1          2   \n",
       "414             1          4   \n",
       "\n",
       "                                         baseline_eval  baseline_correct  \\\n",
       "41                            [0, 0, 0, 0, 0, 0, 0, 0]                 0   \n",
       "47                            [0, 0, 0, 0, 0, 0, 0, 0]                 0   \n",
       "163                                                [0]                 0   \n",
       "366  [0, 0, 0, 0, 0, 0, 0, 0, 0, 0, 0, 0, 0, 0, 0, ...                 0   \n",
       "414                           [0, 0, 0, 0, 0, 0, 0, 0]                 0   \n",
       "\n",
       "     baseline_rank query_type  \n",
       "41              -1   question  \n",
       "47              -1   question  \n",
       "163             -1   question  \n",
       "366             -1   question  \n",
       "414             -1   question  "
      ]
     },
     "execution_count": 184,
     "metadata": {},
     "output_type": "execute_result"
    }
   ],
   "source": [
    "df.query(\"bert_correct > 0 and baseline_correct == 0\")"
   ]
  },
  {
   "cell_type": "code",
   "execution_count": 188,
   "metadata": {},
   "outputs": [
    {
     "data": {
      "text/html": [
       "<div>\n",
       "<style scoped>\n",
       "    .dataframe tbody tr th:only-of-type {\n",
       "        vertical-align: middle;\n",
       "    }\n",
       "\n",
       "    .dataframe tbody tr th {\n",
       "        vertical-align: top;\n",
       "    }\n",
       "\n",
       "    .dataframe thead th {\n",
       "        text-align: right;\n",
       "    }\n",
       "</style>\n",
       "<table border=\"1\" class=\"dataframe\">\n",
       "  <thead>\n",
       "    <tr style=\"text-align: right;\">\n",
       "      <th></th>\n",
       "      <th>query_id</th>\n",
       "      <th>query</th>\n",
       "      <th>bert_eval</th>\n",
       "      <th>bert_correct</th>\n",
       "      <th>bert_rank</th>\n",
       "      <th>baseline_eval</th>\n",
       "      <th>baseline_correct</th>\n",
       "      <th>baseline_rank</th>\n",
       "      <th>query_type</th>\n",
       "    </tr>\n",
       "  </thead>\n",
       "  <tbody>\n",
       "    <tr>\n",
       "      <th>3</th>\n",
       "      <td>61c7fea3-3ac3-4df7-867b-776f16bd1277</td>\n",
       "      <td>Why is a state on my dashboard?</td>\n",
       "      <td>[0, 0, 1, 1]</td>\n",
       "      <td>2</td>\n",
       "      <td>3</td>\n",
       "      <td>[0, 0, 0, 1, 0, 0, 0, 0, 0]</td>\n",
       "      <td>1</td>\n",
       "      <td>4</td>\n",
       "      <td>question</td>\n",
       "    </tr>\n",
       "    <tr>\n",
       "      <th>37</th>\n",
       "      <td>fda37a15-8258-43ca-9982-694b625e3a88</td>\n",
       "      <td>How do I install TaxJar in Magento</td>\n",
       "      <td>[1, 0, 0, 0]</td>\n",
       "      <td>1</td>\n",
       "      <td>1</td>\n",
       "      <td>[0, 0, 1, 0, 0, 0, 0, 0, 0, 0, 0, 0, 0, 0, 0, ...</td>\n",
       "      <td>1</td>\n",
       "      <td>3</td>\n",
       "      <td>question</td>\n",
       "    </tr>\n",
       "    <tr>\n",
       "      <th>154</th>\n",
       "      <td>769a595a-8ed7-445b-bff3-696d94d4bd86</td>\n",
       "      <td>How should I set up PayPal rates?</td>\n",
       "      <td>[1, 1, 0, 0]</td>\n",
       "      <td>2</td>\n",
       "      <td>1</td>\n",
       "      <td>[0, 0, 1, 0, 0, 0, 0, 0, 0, 0, 0, 0, 0]</td>\n",
       "      <td>1</td>\n",
       "      <td>3</td>\n",
       "      <td>question</td>\n",
       "    </tr>\n",
       "    <tr>\n",
       "      <th>155</th>\n",
       "      <td>f3c91f63-329a-436b-9917-fe3524d45417</td>\n",
       "      <td>How should I set up PayPal rates?</td>\n",
       "      <td>[1, 1, 0, 0]</td>\n",
       "      <td>2</td>\n",
       "      <td>1</td>\n",
       "      <td>[0, 0, 1, 0, 0, 0, 0, 0, 0, 0, 0, 0, 0]</td>\n",
       "      <td>1</td>\n",
       "      <td>3</td>\n",
       "      <td>question</td>\n",
       "    </tr>\n",
       "    <tr>\n",
       "      <th>169</th>\n",
       "      <td>fcfa4f29-e174-4c3b-b0f1-3eaf68540d75</td>\n",
       "      <td>Can I use eBay managed payments?</td>\n",
       "      <td>[1, 0, 0, 0]</td>\n",
       "      <td>1</td>\n",
       "      <td>1</td>\n",
       "      <td>[0, 1, 0]</td>\n",
       "      <td>1</td>\n",
       "      <td>2</td>\n",
       "      <td>question</td>\n",
       "    </tr>\n",
       "    <tr>\n",
       "      <th>195</th>\n",
       "      <td>d8214eb6-f247-4b7b-b51a-56f7333431d4</td>\n",
       "      <td>can i link multiple stores to taxjar?</td>\n",
       "      <td>[1, 0, 1, 0]</td>\n",
       "      <td>2</td>\n",
       "      <td>1</td>\n",
       "      <td>[0, 0, 1, 0, 0, 0, 0]</td>\n",
       "      <td>1</td>\n",
       "      <td>3</td>\n",
       "      <td>question</td>\n",
       "    </tr>\n",
       "    <tr>\n",
       "      <th>259</th>\n",
       "      <td>ca038075-3280-4772-ba7f-1d797f74bbc0</td>\n",
       "      <td>I use Square Register</td>\n",
       "      <td>[1, 1, 0, 0]</td>\n",
       "      <td>2</td>\n",
       "      <td>1</td>\n",
       "      <td>[0, 1, 0, 0, 0, 0, 0, 0]</td>\n",
       "      <td>1</td>\n",
       "      <td>2</td>\n",
       "      <td>search</td>\n",
       "    </tr>\n",
       "    <tr>\n",
       "      <th>291</th>\n",
       "      <td>423dba1b-5a14-41bd-b25b-9e7dbdf66182</td>\n",
       "      <td>will i be billed more if i add more than one a...</td>\n",
       "      <td>[0, 0, 0, 1]</td>\n",
       "      <td>1</td>\n",
       "      <td>4</td>\n",
       "      <td>[0, 0, 0, 0, 0, 1, 0, 0, 0, 0, 0]</td>\n",
       "      <td>1</td>\n",
       "      <td>6</td>\n",
       "      <td>question</td>\n",
       "    </tr>\n",
       "    <tr>\n",
       "      <th>355</th>\n",
       "      <td>c2e0485f-446c-41ff-9902-cdc3352533e7</td>\n",
       "      <td>can i still see rates after installing taxjar</td>\n",
       "      <td>[0, 1, 1, 0]</td>\n",
       "      <td>2</td>\n",
       "      <td>2</td>\n",
       "      <td>[0, 0, 1, 0, 0, 0, 0, 0]</td>\n",
       "      <td>1</td>\n",
       "      <td>3</td>\n",
       "      <td>question</td>\n",
       "    </tr>\n",
       "    <tr>\n",
       "      <th>374</th>\n",
       "      <td>1979cacc-3ce0-42b0-9bcf-363a2b264b0d</td>\n",
       "      <td>can i connect all of my sales channels to taxjar?</td>\n",
       "      <td>[1, 0, 1, 0]</td>\n",
       "      <td>2</td>\n",
       "      <td>1</td>\n",
       "      <td>[0, 0, 1, 0, 0, 0, 0, 0, 0, 0, 0, 0, 0, 0, 0, 0]</td>\n",
       "      <td>1</td>\n",
       "      <td>3</td>\n",
       "      <td>question</td>\n",
       "    </tr>\n",
       "    <tr>\n",
       "      <th>375</th>\n",
       "      <td>e907853f-36f7-455d-882d-71e24b895bbe</td>\n",
       "      <td>can i connect all of my sales channels to taxjar?</td>\n",
       "      <td>[1, 0, 1, 0]</td>\n",
       "      <td>2</td>\n",
       "      <td>1</td>\n",
       "      <td>[0, 0, 1, 0, 0, 0, 0, 0, 0, 0, 0, 0, 0, 0, 0, 0]</td>\n",
       "      <td>1</td>\n",
       "      <td>3</td>\n",
       "      <td>question</td>\n",
       "    </tr>\n",
       "    <tr>\n",
       "      <th>426</th>\n",
       "      <td>02f6d4c8-5b94-4fa7-a51a-3212f609a01d</td>\n",
       "      <td>When should I classify my exempt transactions?</td>\n",
       "      <td>[1, 0, 0, 0]</td>\n",
       "      <td>1</td>\n",
       "      <td>1</td>\n",
       "      <td>[0, 1, 0, 0]</td>\n",
       "      <td>1</td>\n",
       "      <td>2</td>\n",
       "      <td>question</td>\n",
       "    </tr>\n",
       "    <tr>\n",
       "      <th>434</th>\n",
       "      <td>491d0812-6535-4012-8632-521b258c0211</td>\n",
       "      <td>Magento</td>\n",
       "      <td>[1, 0, 0, 0]</td>\n",
       "      <td>1</td>\n",
       "      <td>1</td>\n",
       "      <td>[0, 1, 0, 0, 0, 0, 0, 0, 0, 0, 0, 0, 0, 0, 0]</td>\n",
       "      <td>1</td>\n",
       "      <td>2</td>\n",
       "      <td>search</td>\n",
       "    </tr>\n",
       "  </tbody>\n",
       "</table>\n",
       "</div>"
      ],
      "text/plain": [
       "                                 query_id  \\\n",
       "3    61c7fea3-3ac3-4df7-867b-776f16bd1277   \n",
       "37   fda37a15-8258-43ca-9982-694b625e3a88   \n",
       "154  769a595a-8ed7-445b-bff3-696d94d4bd86   \n",
       "155  f3c91f63-329a-436b-9917-fe3524d45417   \n",
       "169  fcfa4f29-e174-4c3b-b0f1-3eaf68540d75   \n",
       "195  d8214eb6-f247-4b7b-b51a-56f7333431d4   \n",
       "259  ca038075-3280-4772-ba7f-1d797f74bbc0   \n",
       "291  423dba1b-5a14-41bd-b25b-9e7dbdf66182   \n",
       "355  c2e0485f-446c-41ff-9902-cdc3352533e7   \n",
       "374  1979cacc-3ce0-42b0-9bcf-363a2b264b0d   \n",
       "375  e907853f-36f7-455d-882d-71e24b895bbe   \n",
       "426  02f6d4c8-5b94-4fa7-a51a-3212f609a01d   \n",
       "434  491d0812-6535-4012-8632-521b258c0211   \n",
       "\n",
       "                                                 query     bert_eval  \\\n",
       "3                      Why is a state on my dashboard?  [0, 0, 1, 1]   \n",
       "37                  How do I install TaxJar in Magento  [1, 0, 0, 0]   \n",
       "154                  How should I set up PayPal rates?  [1, 1, 0, 0]   \n",
       "155                  How should I set up PayPal rates?  [1, 1, 0, 0]   \n",
       "169                   Can I use eBay managed payments?  [1, 0, 0, 0]   \n",
       "195              can i link multiple stores to taxjar?  [1, 0, 1, 0]   \n",
       "259                              I use Square Register  [1, 1, 0, 0]   \n",
       "291  will i be billed more if i add more than one a...  [0, 0, 0, 1]   \n",
       "355      can i still see rates after installing taxjar  [0, 1, 1, 0]   \n",
       "374  can i connect all of my sales channels to taxjar?  [1, 0, 1, 0]   \n",
       "375  can i connect all of my sales channels to taxjar?  [1, 0, 1, 0]   \n",
       "426     When should I classify my exempt transactions?  [1, 0, 0, 0]   \n",
       "434                                            Magento  [1, 0, 0, 0]   \n",
       "\n",
       "     bert_correct  bert_rank  \\\n",
       "3               2          3   \n",
       "37              1          1   \n",
       "154             2          1   \n",
       "155             2          1   \n",
       "169             1          1   \n",
       "195             2          1   \n",
       "259             2          1   \n",
       "291             1          4   \n",
       "355             2          2   \n",
       "374             2          1   \n",
       "375             2          1   \n",
       "426             1          1   \n",
       "434             1          1   \n",
       "\n",
       "                                         baseline_eval  baseline_correct  \\\n",
       "3                          [0, 0, 0, 1, 0, 0, 0, 0, 0]                 1   \n",
       "37   [0, 0, 1, 0, 0, 0, 0, 0, 0, 0, 0, 0, 0, 0, 0, ...                 1   \n",
       "154            [0, 0, 1, 0, 0, 0, 0, 0, 0, 0, 0, 0, 0]                 1   \n",
       "155            [0, 0, 1, 0, 0, 0, 0, 0, 0, 0, 0, 0, 0]                 1   \n",
       "169                                          [0, 1, 0]                 1   \n",
       "195                              [0, 0, 1, 0, 0, 0, 0]                 1   \n",
       "259                           [0, 1, 0, 0, 0, 0, 0, 0]                 1   \n",
       "291                  [0, 0, 0, 0, 0, 1, 0, 0, 0, 0, 0]                 1   \n",
       "355                           [0, 0, 1, 0, 0, 0, 0, 0]                 1   \n",
       "374   [0, 0, 1, 0, 0, 0, 0, 0, 0, 0, 0, 0, 0, 0, 0, 0]                 1   \n",
       "375   [0, 0, 1, 0, 0, 0, 0, 0, 0, 0, 0, 0, 0, 0, 0, 0]                 1   \n",
       "426                                       [0, 1, 0, 0]                 1   \n",
       "434      [0, 1, 0, 0, 0, 0, 0, 0, 0, 0, 0, 0, 0, 0, 0]                 1   \n",
       "\n",
       "     baseline_rank query_type  \n",
       "3                4   question  \n",
       "37               3   question  \n",
       "154              3   question  \n",
       "155              3   question  \n",
       "169              2   question  \n",
       "195              3   question  \n",
       "259              2     search  \n",
       "291              6   question  \n",
       "355              3   question  \n",
       "374              3   question  \n",
       "375              3   question  \n",
       "426              2   question  \n",
       "434              2     search  "
      ]
     },
     "execution_count": 188,
     "metadata": {},
     "output_type": "execute_result"
    }
   ],
   "source": [
    "df.query(\"bert_rank > 0 & baseline_rank > bert_rank\")"
   ]
  },
  {
   "cell_type": "code",
   "execution_count": 2,
   "metadata": {},
   "outputs": [
    {
     "data": {
      "text/html": [
       "<div>\n",
       "<style scoped>\n",
       "    .dataframe tbody tr th:only-of-type {\n",
       "        vertical-align: middle;\n",
       "    }\n",
       "\n",
       "    .dataframe tbody tr th {\n",
       "        vertical-align: top;\n",
       "    }\n",
       "\n",
       "    .dataframe thead th {\n",
       "        text-align: right;\n",
       "    }\n",
       "</style>\n",
       "<table border=\"1\" class=\"dataframe\">\n",
       "  <thead>\n",
       "    <tr style=\"text-align: right;\">\n",
       "      <th></th>\n",
       "      <th>gold_document_id</th>\n",
       "      <th>gold_knowledge_id</th>\n",
       "      <th>label_source</th>\n",
       "      <th>org</th>\n",
       "      <th>org_id</th>\n",
       "      <th>query</th>\n",
       "      <th>query_type</th>\n",
       "      <th>useful_results</th>\n",
       "      <th>organization_id</th>\n",
       "      <th>query_id</th>\n",
       "      <th>eval_results</th>\n",
       "      <th>correct_flag</th>\n",
       "    </tr>\n",
       "  </thead>\n",
       "  <tbody>\n",
       "    <tr>\n",
       "      <th>169</th>\n",
       "      <td>07181406-aed9-4586-8adb-dd8ec9dc1bf3</td>\n",
       "      <td>328715d5-45bb-4fc3-8580-5c002bee2fe3</td>\n",
       "      <td>feedback</td>\n",
       "      <td>TaxJar</td>\n",
       "      <td>82167</td>\n",
       "      <td>Can I use eBay managed payments?</td>\n",
       "      <td>question</td>\n",
       "      <td>1.0</td>\n",
       "      <td>82167.0</td>\n",
       "      <td>fcfa4f29-e174-4c3b-b0f1-3eaf68540d75</td>\n",
       "      <td>[0, 1, 0]</td>\n",
       "      <td>1</td>\n",
       "    </tr>\n",
       "  </tbody>\n",
       "</table>\n",
       "</div>"
      ],
      "text/plain": [
       "                         gold_document_id  \\\n",
       "169  07181406-aed9-4586-8adb-dd8ec9dc1bf3   \n",
       "\n",
       "                        gold_knowledge_id label_source     org  org_id  \\\n",
       "169  328715d5-45bb-4fc3-8580-5c002bee2fe3     feedback  TaxJar   82167   \n",
       "\n",
       "                                query query_type  useful_results  \\\n",
       "169  Can I use eBay managed payments?   question             1.0   \n",
       "\n",
       "     organization_id                              query_id eval_results  \\\n",
       "169          82167.0  fcfa4f29-e174-4c3b-b0f1-3eaf68540d75    [0, 1, 0]   \n",
       "\n",
       "     correct_flag  \n",
       "169             1  "
      ]
     },
     "execution_count": 2,
     "metadata": {},
     "output_type": "execute_result"
    }
   ],
   "source": [
    "tj_queries.query(\"query_id=='fcfa4f29-e174-4c3b-b0f1-3eaf68540d75'\")"
   ]
  },
  {
   "cell_type": "code",
   "execution_count": 3,
   "metadata": {},
   "outputs": [
    {
     "data": {
      "text/plain": [
       "{'title': 'How do I connect my eBay Account to TaxJar?',\n",
       " 'content': \"We do not currently have a direct integration with eBay or with their new Managed Payments system.        However, we do have an integration with PayPal, and if your eBay payments are processed through PayPal, you can connect your eBay account to TaxJar by   connecting PayPal as a Linked Account   .          Once you connect your PayPal account, TaxJar will   automatically import your PayPal transactions   with the following status:        Pending      Processing      Success      Denied      Reversed        If your PayPal account contains transactions outside of your eBay sales that you don't want included in your TaxJar Reports, then we'd recommend that you   upload your eBay sales by CSV   rather than connecting your PayPal account to TaxJar.\",\n",
       " 'doc_id': '07181406-aed9-4586-8adb-dd8ec9dc1bf3',\n",
       " 'doc_title': 'How do I connect my eBay Account to TaxJar?'}"
      ]
     },
     "execution_count": 3,
     "metadata": {},
     "output_type": "execute_result"
    }
   ],
   "source": [
    "tj_map[\"328715d5-45bb-4fc3-8580-5c002bee2fe3\"]"
   ]
  },
  {
   "cell_type": "code",
   "execution_count": null,
   "metadata": {},
   "outputs": [],
   "source": []
  }
 ],
 "metadata": {
  "kernelspec": {
   "display_name": "semantic",
   "language": "python",
   "name": "semantic"
  },
  "language_info": {
   "codemirror_mode": {
    "name": "ipython",
    "version": 3
   },
   "file_extension": ".py",
   "mimetype": "text/x-python",
   "name": "python",
   "nbconvert_exporter": "python",
   "pygments_lexer": "ipython3",
   "version": "3.7.4"
  }
 },
 "nbformat": 4,
 "nbformat_minor": 2
}
